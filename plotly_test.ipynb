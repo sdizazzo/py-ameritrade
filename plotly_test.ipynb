{
 "cells": [
  {
   "cell_type": "markdown",
   "metadata": {},
   "source": [
    "<h2>Plot.ly sample charts</h2>\n",
    "<p/>\n",
    "In order to run these examples, you must create an account at <a href=\"https://plot.ly/\">https://plot.ly/</a> and then follow the <a href=\"https://plot.ly/python/getting-started/\">Getting Started Guide</a> to set a local api key.\n"
   ]
  },
  {
   "cell_type": "code",
   "execution_count": 9,
   "metadata": {
    "scrolled": false
   },
   "outputs": [
    {
     "name": "stderr",
     "output_type": "stream",
     "text": [
      "2019-04-20 11:34:16,722 -              ameritrade.Client -       INFO - GET https://api.tdameritrade.com/v1/marketdata/$DJI/pricehistory\n",
      "2019-04-20 11:34:17,075 -              ameritrade.Client -       INFO - Refreshing token\n",
      "2019-04-20 11:34:17,077 -              ameritrade.Client -       INFO - POST https://api.tdameritrade.com/v1/oauth2/token\n",
      "2019-04-20 11:34:17,166 -              ameritrade.Client -       INFO - Sending GET request again after refreshing token\n"
     ]
    },
    {
     "name": "stdout",
     "output_type": "stream",
     "text": [
      "This is the format of your plot grid:\n",
      "[ (1,1) x1,y1 ]\n",
      "[ (2,1) x1,y2 ]\n",
      "\n"
     ]
    }
   ],
   "source": [
    "#!/usr/bin/env python3\n",
    "\n",
    "from pyameritrade.client import Client\n",
    "from pyameritrade.utils import logger\n",
    "\n",
    "am_client = Client.from_config('client.config')\n",
    "\n",
    "\n",
    "price_history = am_client.get_price_history('$DJI', period_type='year', \n",
    "                                            period=20, frequency_type='daily')\n",
    "\n",
    "price_history.generate_graph(trace='line', filename='DOW_20yr',\n",
    "                             simple_averages=(50, 200), \n",
    "                             exp_averages=(50,)\n",
    "                            )\n",
    "    \n",
    "\n"
   ]
  },
  {
   "cell_type": "code",
   "execution_count": 10,
   "metadata": {},
   "outputs": [
    {
     "data": {
      "text/html": [
       "\n",
       "        <iframe\n",
       "            width=\"1000\"\n",
       "            height=\"650\"\n",
       "            src=\"https://plot.ly/~sean.dizazzo/23.embed?isolated=True\"\n",
       "            frameborder=\"0\"\n",
       "            allowfullscreen\n",
       "        ></iframe>\n",
       "        "
      ],
      "text/plain": [
       "<IPython.lib.display.IFrame at 0x115ba66a0>"
      ]
     },
     "execution_count": 10,
     "metadata": {},
     "output_type": "execute_result"
    }
   ],
   "source": [
    "#Example rendered chart\n",
    "\n",
    "from IPython.display import IFrame    \n",
    "IFrame('https://plot.ly/~sean.dizazzo/23.embed', width=1000, height=650, isolated=True)\n"
   ]
  },
  {
   "cell_type": "markdown",
   "metadata": {},
   "source": [
    "<h2>Now generate a one day graph with 5 minute candlesticks<h2>"
   ]
  },
  {
   "cell_type": "code",
   "execution_count": 11,
   "metadata": {
    "scrolled": true
   },
   "outputs": [
    {
     "name": "stderr",
     "output_type": "stream",
     "text": [
      "2019-04-20 11:35:09,482 -              ameritrade.Client -       INFO - GET https://api.tdameritrade.com/v1/marketdata/AAPL/pricehistory\n"
     ]
    },
    {
     "name": "stdout",
     "output_type": "stream",
     "text": [
      "This is the format of your plot grid:\n",
      "[ (1,1) x1,y1 ]\n",
      "[ (2,1) x1,y2 ]\n",
      "\n"
     ]
    }
   ],
   "source": [
    "price_history = am_client.get_price_history('aapl', period_type='day', period=1,\n",
    "                                            frequency_type='minute', frequency=5)\n",
    "\n",
    "price_history.generate_graph(trace='candlestick', filename='AAPL_daily')\n"
   ]
  },
  {
   "cell_type": "code",
   "execution_count": 12,
   "metadata": {
    "scrolled": true
   },
   "outputs": [
    {
     "data": {
      "text/html": [
       "\n",
       "        <iframe\n",
       "            width=\"1000\"\n",
       "            height=\"650\"\n",
       "            src=\"https://plot.ly/~sean.dizazzo/25.embed?isolated=True\"\n",
       "            frameborder=\"0\"\n",
       "            allowfullscreen\n",
       "        ></iframe>\n",
       "        "
      ],
      "text/plain": [
       "<IPython.lib.display.IFrame at 0x114620160>"
      ]
     },
     "execution_count": 12,
     "metadata": {},
     "output_type": "execute_result"
    }
   ],
   "source": [
    "from IPython.display import IFrame    \n",
    "IFrame('https://plot.ly/~sean.dizazzo/25.embed', width=1000, height=650, isolated=True)"
   ]
  },
  {
   "cell_type": "code",
   "execution_count": null,
   "metadata": {},
   "outputs": [],
   "source": []
  }
 ],
 "metadata": {
  "kernelspec": {
   "display_name": "Python 3",
   "language": "python",
   "name": "python3"
  },
  "language_info": {
   "codemirror_mode": {
    "name": "ipython",
    "version": 3
   },
   "file_extension": ".py",
   "mimetype": "text/x-python",
   "name": "python",
   "nbconvert_exporter": "python",
   "pygments_lexer": "ipython3",
   "version": "3.7.2"
  }
 },
 "nbformat": 4,
 "nbformat_minor": 2
}
