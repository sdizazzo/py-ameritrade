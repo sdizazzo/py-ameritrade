{
 "cells": [
  {
   "cell_type": "markdown",
   "metadata": {},
   "source": [
    "<h2>Plot.ly sample charts</h2>\n",
    "<p/>\n",
    "In order to run these examples, you must create an account at <a href=\"https://plot.ly/\">https://plot.ly/</a> and then follow the <a href=\"https://plot.ly/python/getting-started/\">Getting Started Guide</a> to set a local api key.\n"
   ]
  },
  {
   "cell_type": "code",
   "execution_count": 1,
   "metadata": {
    "scrolled": false
   },
   "outputs": [
    {
     "name": "stderr",
     "output_type": "stream",
     "text": [
      "2019-04-19 14:33:47,069 -              ameritrade.Client -       INFO - GET https://api.tdameritrade.com/v1/marketdata/$DJI/pricehistory\n",
      "2019-04-19 14:33:47,331 -              ameritrade.Client -       INFO - Refreshing token\n",
      "2019-04-19 14:33:47,332 -              ameritrade.Client -       INFO - POST https://api.tdameritrade.com/v1/oauth2/token\n",
      "2019-04-19 14:33:47,432 -              ameritrade.Client -       INFO - Sending GET request again after refreshing token\n"
     ]
    },
    {
     "name": "stdout",
     "output_type": "stream",
     "text": [
      "This is the format of your plot grid:\n",
      "[ (1,1) x1,y1 ]\n",
      "[ (2,1) x1,y2 ]\n",
      "\n"
     ]
    }
   ],
   "source": [
    "#!/usr/bin/env python3\n",
    "\n",
    "from pyameritrade.client import Client\n",
    "from pyameritrade.utils import logger\n",
    "\n",
    "am_client = Client.from_config('client.config')\n",
    "\n",
    "\n",
    "price_history = am_client.get_price_history('$DJI', period_type='year', \n",
    "                                            period=20, frequency_type='daily')\n",
    "\n",
    "price_history.generate_graph(trace='line', averages=(50, 200), filename='DOW_20yr')\n",
    "    \n",
    "\n"
   ]
  },
  {
   "cell_type": "code",
   "execution_count": 2,
   "metadata": {},
   "outputs": [
    {
     "data": {
      "text/html": [
       "\n",
       "        <iframe\n",
       "            width=\"1000\"\n",
       "            height=\"650\"\n",
       "            src=\"https://plot.ly/~sean.dizazzo/23.embed\"\n",
       "            frameborder=\"0\"\n",
       "            allowfullscreen\n",
       "        ></iframe>\n",
       "        "
      ],
      "text/plain": [
       "<IPython.lib.display.IFrame at 0x10398d940>"
      ]
     },
     "execution_count": 2,
     "metadata": {},
     "output_type": "execute_result"
    }
   ],
   "source": [
    "#Example rendered chart\n",
    "\n",
    "from IPython.display import IFrame    \n",
    "IFrame('https://plot.ly/~sean.dizazzo/23.embed', width=1000, height=650)"
   ]
  },
  {
   "cell_type": "markdown",
   "metadata": {},
   "source": [
    "<h2>Now generate a one day graph with 5 minute candlesticks<h2>"
   ]
  },
  {
   "cell_type": "code",
   "execution_count": 3,
   "metadata": {
    "scrolled": true
   },
   "outputs": [
    {
     "name": "stderr",
     "output_type": "stream",
     "text": [
      "2019-04-19 14:34:24,761 -              ameritrade.Client -       INFO - GET https://api.tdameritrade.com/v1/marketdata/AAPL/pricehistory\n"
     ]
    },
    {
     "name": "stdout",
     "output_type": "stream",
     "text": [
      "This is the format of your plot grid:\n",
      "[ (1,1) x1,y1 ]\n",
      "[ (2,1) x1,y2 ]\n",
      "\n"
     ]
    }
   ],
   "source": [
    "price_history = am_client.get_price_history('aapl', period_type='day', \n",
    "                                            period=1, frequency_type='minute', frequency=5)\n",
    "\n",
    "price_history.generate_graph(trace='candlestick', filename='AAPL_daily')\n"
   ]
  },
  {
   "cell_type": "code",
   "execution_count": 4,
   "metadata": {},
   "outputs": [
    {
     "data": {
      "text/html": [
       "\n",
       "        <iframe\n",
       "            width=\"1000\"\n",
       "            height=\"650\"\n",
       "            src=\"https://plot.ly/~sean.dizazzo/25.embed\"\n",
       "            frameborder=\"0\"\n",
       "            allowfullscreen\n",
       "        ></iframe>\n",
       "        "
      ],
      "text/plain": [
       "<IPython.lib.display.IFrame at 0x10398de10>"
      ]
     },
     "execution_count": 4,
     "metadata": {},
     "output_type": "execute_result"
    }
   ],
   "source": [
    "from IPython.display import IFrame    \n",
    "IFrame('https://plot.ly/~sean.dizazzo/25.embed', width=1000, height=650)"
   ]
  },
  {
   "cell_type": "code",
   "execution_count": null,
   "metadata": {},
   "outputs": [],
   "source": []
  }
 ],
 "metadata": {
  "kernelspec": {
   "display_name": "Python 3",
   "language": "python",
   "name": "python3"
  },
  "language_info": {
   "codemirror_mode": {
    "name": "ipython",
    "version": 3
   },
   "file_extension": ".py",
   "mimetype": "text/x-python",
   "name": "python",
   "nbconvert_exporter": "python",
   "pygments_lexer": "ipython3",
   "version": "3.7.2"
  }
 },
 "nbformat": 4,
 "nbformat_minor": 2
}
