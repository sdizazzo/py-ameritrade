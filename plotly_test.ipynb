{
 "cells": [
  {
   "cell_type": "markdown",
   "metadata": {},
   "source": [
    "<h2>Plot.ly sample charts</h2>\n",
    "<p/>\n",
    "In order to run these examples, you must create an account at <a href=\"https://plot.ly/\">https://plot.ly/</a> and then follow the <a href=\"https://plot.ly/python/getting-started/\">Getting Started Guide</a> to set a local api key.\n"
   ]
  },
  {
   "cell_type": "code",
   "execution_count": 1,
   "metadata": {},
   "outputs": [
    {
     "data": {
      "text/html": [
       "        <script type=\"text/javascript\">\n",
       "        window.PlotlyConfig = {MathJaxConfig: 'local'};\n",
       "        if (window.MathJax) {MathJax.Hub.Config({SVG: {font: \"STIX-Web\"}});}\n",
       "        if (typeof require !== 'undefined') {\n",
       "        require.undef(\"plotly\");\n",
       "        requirejs.config({\n",
       "            paths: {\n",
       "                'plotly': ['https://cdn.plot.ly/plotly-latest.min']\n",
       "            }\n",
       "        });\n",
       "        require(['plotly'], function(Plotly) {\n",
       "            window._Plotly = Plotly;\n",
       "        });\n",
       "        }\n",
       "        </script>\n",
       "        "
      ]
     },
     "metadata": {},
     "output_type": "display_data"
    }
   ],
   "source": [
    "from plotly.offline import init_notebook_mode\n",
    "init_notebook_mode(connected=True)"
   ]
  },
  {
   "cell_type": "code",
   "execution_count": 2,
   "metadata": {
    "scrolled": false
   },
   "outputs": [
    {
     "name": "stderr",
     "output_type": "stream",
     "text": [
      "2019-04-23 03:32:06,343 -            pyameritrade.Client -       INFO - GET https://10.0.1.103/auth_token\n",
      "2019-04-23 03:32:06,429 -            pyameritrade.Client -       INFO - GET https://api.tdameritrade.com/v1/marketdata/$DJI/pricehistory\n",
      "2019-04-23 03:32:07,069 -            pyameritrade.Client -       INFO - Refreshing token\n",
      "2019-04-23 03:32:07,071 -            pyameritrade.Client -       INFO - POST https://api.tdameritrade.com/v1/oauth2/token\n",
      "2019-04-23 03:32:07,172 -            pyameritrade.Client -       INFO - Sending GET request again after refreshing token\n"
     ]
    },
    {
     "name": "stdout",
     "output_type": "stream",
     "text": [
      "This is the format of your plot grid:\n",
      "[ (1,1) x1,y1 ]\n",
      "[ (2,1) x1,y2 ]\n",
      "\n"
     ]
    },
    {
     "name": "stderr",
     "output_type": "stream",
     "text": [
      "/Library/Frameworks/Python.framework/Versions/3.7/lib/python3.7/site-packages/IPython/core/display.py:689: UserWarning:\n",
      "\n",
      "Consider using IPython.display.IFrame instead\n",
      "\n"
     ]
    },
    {
     "data": {
      "text/html": [
       "<iframe id=\"igraph\" scrolling=\"no\" style=\"border:none;\" seamless=\"seamless\" src=\"https://plot.ly/~sean.dizazzo/23.embed\" height=\"525px\" width=\"100%\"></iframe>"
      ],
      "text/plain": [
       "<chart_studio.tools.PlotlyDisplay object>"
      ]
     },
     "execution_count": 2,
     "metadata": {},
     "output_type": "execute_result"
    }
   ],
   "source": [
    "#!/usr/bin/env python3\n",
    "\n",
    "\n",
    "from pyameritrade.client import Client\n",
    "from pyameritrade.utils import logger\n",
    "\n",
    "am_client = Client.from_config('client.config')\n",
    "am_client.authenticate()\n",
    "\n",
    "\n",
    "price_history = am_client.get_price_history('$DJI', period_type='year', \n",
    "                                            period=20, frequency_type='daily')\n",
    "\n",
    "\n",
    "price_history.generate_graph(trace='line', filename='DOW_20yr',\n",
    "                             simple_averages=(50, 200), \n",
    "                             exp_averages=(50,),\n",
    "                             interactive=True\n",
    "                            )\n",
    "    \n",
    "\n"
   ]
  },
  {
   "cell_type": "markdown",
   "metadata": {},
   "source": [
    "<h2>Now generate a one day graph with 5 minute candlesticks<h2>"
   ]
  },
  {
   "cell_type": "code",
   "execution_count": 3,
   "metadata": {
    "scrolled": true
   },
   "outputs": [
    {
     "name": "stderr",
     "output_type": "stream",
     "text": [
      "2019-04-23 03:32:16,667 -            pyameritrade.Client -       INFO - GET https://api.tdameritrade.com/v1/marketdata/AAPL/pricehistory\n"
     ]
    },
    {
     "name": "stdout",
     "output_type": "stream",
     "text": [
      "This is the format of your plot grid:\n",
      "[ (1,1) x1,y1 ]\n",
      "[ (2,1) x1,y2 ]\n",
      "\n"
     ]
    },
    {
     "data": {
      "text/html": [
       "<iframe id=\"igraph\" scrolling=\"no\" style=\"border:none;\" seamless=\"seamless\" src=\"https://plot.ly/~sean.dizazzo/25.embed\" height=\"525px\" width=\"100%\"></iframe>"
      ],
      "text/plain": [
       "<chart_studio.tools.PlotlyDisplay object>"
      ]
     },
     "execution_count": 3,
     "metadata": {},
     "output_type": "execute_result"
    }
   ],
   "source": [
    "price_history = am_client.get_price_history('aapl', period_type='day', period=1,\n",
    "                                            frequency_type='minute', frequency=5)\n",
    "\n",
    "price_history.generate_graph(trace='candlestick', filename='AAPL_daily',\n",
    "                             interactive=True)\n"
   ]
  },
  {
   "cell_type": "code",
   "execution_count": null,
   "metadata": {},
   "outputs": [],
   "source": []
  }
 ],
 "metadata": {
  "kernelspec": {
   "display_name": "Python 3",
   "language": "python",
   "name": "python3"
  },
  "language_info": {
   "codemirror_mode": {
    "name": "ipython",
    "version": 3
   },
   "file_extension": ".py",
   "mimetype": "text/x-python",
   "name": "python",
   "nbconvert_exporter": "python",
   "pygments_lexer": "ipython3",
   "version": "3.7.2"
  }
 },
 "nbformat": 4,
 "nbformat_minor": 2
}
